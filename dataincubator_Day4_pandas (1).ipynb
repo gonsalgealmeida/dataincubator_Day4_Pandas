{
 "cells": [
  {
   "cell_type": "markdown",
   "id": "54e238fa-d67f-4d9b-b338-9f9d189332b9",
   "metadata": {},
   "source": [
    "#Using Pandas package in python\n",
    "#1. How to read data from a CSV (comma-separated value) file to create a           DataFrame.\n",
    "#2. How to filter data in a DataFrame.\n",
    "#3. How to compute summary statistics for a DataFrame.\n",
    "#4. How to use the groupby method to aggregate data.\n",
    "#5. How to dump results of analysis to a CSV file."
   ]
  },
  {
   "cell_type": "markdown",
   "id": "09473f15-07fb-47ba-ad09-cb2785593823",
   "metadata": {
    "jupyter": {
     "source_hidden": true
    },
    "tags": []
   },
   "source": [
    "#Total estimated annual dollar value of utility discounts for businesses approved for ECSP benefits during the fiscal year.\n",
    "#Data privided by Department of Small Business Services"
   ]
  },
  {
   "cell_type": "code",
   "execution_count": 1,
   "id": "b85cd387-fe18-4ceb-a553-437218cc1312",
   "metadata": {
    "tags": []
   },
   "outputs": [],
   "source": [
    "import pandas as pd\n",
    "#Read in the data from the csv file\n",
    "Value_ECSP=pd.read_csv(\"Value_of_Energy_Cost_Savings_Program_Savings_for_Businesses_-_FY2020.csv\")\n"
   ]
  },
  {
   "cell_type": "code",
   "execution_count": 2,
   "id": "9a99f685-3be6-4276-b19c-da94c877e8c6",
   "metadata": {},
   "outputs": [
    {
     "name": "stdout",
     "output_type": "stream",
     "text": [
      "439\n"
     ]
    }
   ],
   "source": [
    "#Q1:How many different companies are represented in the data set?\n",
    "no_companies=Value_ECSP[\"Company Name\"].nunique()\n",
    "print(no_companies)"
   ]
  },
  {
   "cell_type": "code",
   "execution_count": 3,
   "id": "84aa15e3-5507-4da0-b1a7-e6762de5187d",
   "metadata": {},
   "outputs": [
    {
     "name": "stdout",
     "output_type": "stream",
     "text": [
      "0.0\n"
     ]
    }
   ],
   "source": [
    "# Q2:What is the total number of jobs created for businesses in Queens?\n",
    "df=Value_ECSP\n",
    "jobs_in_queens = df[df[\"Company Name\"] == 'Queens']['Job created'].sum()\n",
    "print(jobs_in_queens)"
   ]
  },
  {
   "cell_type": "code",
   "execution_count": null,
   "id": "0afa19ee-8046-446b-b970-891e41d17ab0",
   "metadata": {},
   "outputs": [],
   "source": [
    "#Q3:How many different unique email domains names are there in the data set?"
   ]
  },
  {
   "cell_type": "code",
   "execution_count": 6,
   "id": "a5aa1626-bfbd-4925-9a83-852c6b1a5c17",
   "metadata": {
    "tags": []
   },
   "outputs": [
    {
     "data": {
      "text/plain": [
       "356"
      ]
     },
     "execution_count": 6,
     "metadata": {},
     "output_type": "execute_result"
    }
   ],
   "source": [
    "#import the pandas package\n",
    "import pandas as pd\n",
    "#read the datafile\n",
    "Value_ECSP=pd.read_csv(\"Value_of_Energy_Cost_Savings_Program_Savings_for_Businesses_-_FY2020.csv\")\n",
    "# initializing strings\n",
    "df =pd.DataFrame(Value_ECSP[\"company email\"])\n",
    "df['domain'] = df[\"company email\"].str.split('@').str[1]\n",
    "df\n",
    "df['domain'].nunique()\n"
   ]
  },
  {
   "cell_type": "code",
   "execution_count": null,
   "id": "56b4407f-6064-43a1-b68a-90cc25c5ad3b",
   "metadata": {},
   "outputs": [],
   "source": [
    "#There are 356 domains with 420 company email addresses."
   ]
  },
  {
   "cell_type": "code",
   "execution_count": null,
   "id": "2049ccc8-409b-4fd6-94cf-c774209c1e79",
   "metadata": {},
   "outputs": [],
   "source": [
    "#Q4:Considering only NTAs with at least 5 listed businesses, what is the average total savings and the total jobs created for each NTA?"
   ]
  },
  {
   "cell_type": "code",
   "execution_count": 54,
   "id": "e617d897-a9a2-4588-aae9-f141c3a2bcc1",
   "metadata": {},
   "outputs": [
    {
     "name": "stdout",
     "output_type": "stream",
     "text": [
      "                                                  Total Savings  Job created\n",
      "NTA                                                                         \n",
      "Battery Park City-Lower Manhattan                 469890.796667          0.0\n",
      "Bushwick South                                     26140.455000         10.0\n",
      "Carroll Gardens-Columbia Street-Red Hook           24337.390000          0.0\n",
      "College Point                                      17159.372857          2.0\n",
      "Crown Heights North                                 4036.298889          0.0\n",
      "DUMBO-Vinegar Hill-Downtown Brooklyn-Boerum Hill   59950.340000          0.0\n",
      "East New York                                      48433.093333         15.0\n",
      "East Williamsburg                                  13990.626364          0.0\n",
      "Greenpoint                                          9753.649286          0.0\n",
      "Hunters Point-Sunnyside-West Maspeth               23931.398933          0.0\n",
      "Hunts Point                                        39246.016154         12.0\n",
      "Manhattanville                                      2760.888889          0.0\n",
      "Maspeth                                             6658.283333         10.0\n",
      "Mott Haven-Port Morris                             17843.937857         10.0\n",
      "Queensbridge-Ravenswood-Long Island City           61830.770625          0.0\n",
      "SoHo-TriBeCa-Civic Center-Little Italy             37214.024000          0.0\n",
      "Springfield Gardens South-Brookville               17757.662000          0.0\n",
      "Steinway                                           11227.155714         20.0\n",
      "Sunset Park West                                   14316.976875          0.0\n",
      "park-cemetery-etc-Brooklyn                         14327.419333          0.0\n"
     ]
    }
   ],
   "source": [
    "import pandas as pd\n",
    "#Read in the data from the csv file\n",
    "ECSP_CSV=pd.read_csv(\"Value_of_Energy_Cost_Savings_Program_Savings_for_Businesses_-_FY2020.csv\")\n",
    "df=pd.DataFrame(ECSP_CSV)\n",
    "#Filter the data to only include NTAs with at least 5 businessess\n",
    "df=df[ECSP_CSV.groupby('NTA').NTA.transform('size')>=5]\n",
    "results = df.groupby('NTA').agg({'Total Savings': 'mean', 'Job created': 'sum'})\n",
    "#print the results\n",
    "print(results)"
   ]
  },
  {
   "cell_type": "code",
   "execution_count": null,
   "id": "71259490-bdee-4804-acee-ac7e4647a7ef",
   "metadata": {},
   "outputs": [],
   "source": [
    "#Q5: save result as CSV file"
   ]
  },
  {
   "cell_type": "code",
   "execution_count": 46,
   "id": "4e913ab7-b08e-4dae-a06e-a6756a83bff2",
   "metadata": {},
   "outputs": [],
   "source": [
    "results.to_excel(\"results.xlsx\", sheet_name=\"values of ECSP\", index=True)\n",
    "results.to_csv(\"results.csv\", index=True)"
   ]
  },
  {
   "cell_type": "code",
   "execution_count": null,
   "id": "032d45e5-2e1a-4386-87d6-d2b88c3f0e47",
   "metadata": {},
   "outputs": [],
   "source": []
  }
 ],
 "metadata": {
  "kernelspec": {
   "display_name": "Python 3 (ipykernel)",
   "language": "python",
   "name": "python3"
  },
  "language_info": {
   "codemirror_mode": {
    "name": "ipython",
    "version": 3
   },
   "file_extension": ".py",
   "mimetype": "text/x-python",
   "name": "python",
   "nbconvert_exporter": "python",
   "pygments_lexer": "ipython3",
   "version": "3.9.13"
  },
  "toc-showmarkdowntxt": true
 },
 "nbformat": 4,
 "nbformat_minor": 5
}
