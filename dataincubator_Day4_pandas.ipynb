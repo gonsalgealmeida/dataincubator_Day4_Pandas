{
 "cells": [
  {
   "cell_type": "markdown",
   "id": "54e238fa-d67f-4d9b-b338-9f9d189332b9",
   "metadata": {},
   "source": [
    "#Using Pandas package in python\n",
    "#1.How to read data from a CSV (comma-separated value) file to create a DataFrame.\n",
    "#2.How to filter data in a DataFrame.\n",
    "#3.How to compute summary statistics for a DataFrame.\n",
    "#4.How to use the groupby method to aggregate data.\n",
    "#5.How to dump results of analysis to a CSV file."
   ]
  },
  {
   "cell_type": "markdown",
   "id": "09473f15-07fb-47ba-ad09-cb2785593823",
   "metadata": {
    "jupyter": {
     "source_hidden": true
    },
    "tags": []
   },
   "source": [
    "#Total estimated annual dollar value of utility discounts for businesses approved for ECSP benefits during the fiscal year.\n",
    "#Data privided by Department of Small Business Services"
   ]
  },
  {
   "cell_type": "code",
   "execution_count": 23,
   "id": "b85cd387-fe18-4ceb-a553-437218cc1312",
   "metadata": {
    "tags": []
   },
   "outputs": [],
   "source": [
    "import pandas as pd\n",
    "#Read in the data from the csv file\n",
    "Value_ECSP=pd.read_csv(\"Value_of_Energy_Cost_Savings_Program_Savings_for_Businesses_-_FY2020.csv\")\n"
   ]
  },
  {
   "cell_type": "code",
   "execution_count": 49,
   "id": "9a99f685-3be6-4276-b19c-da94c877e8c6",
   "metadata": {},
   "outputs": [
    {
     "name": "stdout",
     "output_type": "stream",
     "text": [
      "439\n"
     ]
    }
   ],
   "source": [
    "#Q1:How many different companies are represented in the data set?\n",
    "no_companies=Value_ECSP[\"Company Name\"].nunique()\n",
    "print(no_companies)"
   ]
  },
  {
   "cell_type": "code",
   "execution_count": 50,
   "id": "84aa15e3-5507-4da0-b1a7-e6762de5187d",
   "metadata": {},
   "outputs": [
    {
     "name": "stdout",
     "output_type": "stream",
     "text": [
      "0.0\n"
     ]
    }
   ],
   "source": [
    "# Q2:What is the total number of jobs created for businesses in Queens?\n",
    "df=Value_ECSP\n",
    "jobs_in_queens = df[df[\"Company Name\"] == 'Queens']['Job created'].sum()\n",
    "print(jobs_in_queens)"
   ]
  },
  {
   "cell_type": "code",
   "execution_count": 51,
   "id": "89a7ff4c-72ed-49fe-b2c7-ef35de2c968b",
   "metadata": {
    "collapsed": true,
    "jupyter": {
     "outputs_hidden": true
    },
    "tags": []
   },
   "outputs": [
    {
     "ename": "AttributeError",
     "evalue": "'float' object has no attribute 'split'",
     "output_type": "error",
     "traceback": [
      "\u001b[1;31m---------------------------------------------------------------------------\u001b[0m",
      "\u001b[1;31mAttributeError\u001b[0m                            Traceback (most recent call last)",
      "\u001b[1;32m~\\AppData\\Local\\Temp\\ipykernel_10780\\1295655512.py\u001b[0m in \u001b[0;36m<module>\u001b[1;34m\u001b[0m\n\u001b[0;32m      1\u001b[0m \u001b[1;31m# How many different unique email domains names are there in the data set?\u001b[0m\u001b[1;33m\u001b[0m\u001b[1;33m\u001b[0m\u001b[0m\n\u001b[1;32m----> 2\u001b[1;33m \u001b[0mnum_email_domains\u001b[0m \u001b[1;33m=\u001b[0m \u001b[0mdf\u001b[0m\u001b[1;33m[\u001b[0m\u001b[1;34m\"company email\"\u001b[0m\u001b[1;33m]\u001b[0m\u001b[1;33m.\u001b[0m\u001b[0mapply\u001b[0m\u001b[1;33m(\u001b[0m\u001b[1;32mlambda\u001b[0m \u001b[0mx\u001b[0m\u001b[1;33m:\u001b[0m \u001b[0mx\u001b[0m\u001b[1;33m.\u001b[0m\u001b[0msplit\u001b[0m\u001b[1;33m(\u001b[0m\u001b[1;34m'@'\u001b[0m\u001b[1;33m)\u001b[0m\u001b[1;33m[\u001b[0m\u001b[1;36m1\u001b[0m\u001b[1;33m]\u001b[0m\u001b[1;33m)\u001b[0m\u001b[1;33m.\u001b[0m\u001b[0mnunique\u001b[0m\u001b[1;33m(\u001b[0m\u001b[1;33m)\u001b[0m\u001b[1;33m\u001b[0m\u001b[1;33m\u001b[0m\u001b[0m\n\u001b[0m\u001b[0;32m      3\u001b[0m \u001b[0mprint\u001b[0m\u001b[1;33m(\u001b[0m\u001b[0mnum_email_domains\u001b[0m\u001b[1;33m)\u001b[0m\u001b[1;33m\u001b[0m\u001b[1;33m\u001b[0m\u001b[0m\n",
      "\u001b[1;32m~\\anaconda3\\lib\\site-packages\\pandas\\core\\series.py\u001b[0m in \u001b[0;36mapply\u001b[1;34m(self, func, convert_dtype, args, **kwargs)\u001b[0m\n\u001b[0;32m   4431\u001b[0m         \u001b[0mdtype\u001b[0m\u001b[1;33m:\u001b[0m \u001b[0mfloat64\u001b[0m\u001b[1;33m\u001b[0m\u001b[1;33m\u001b[0m\u001b[0m\n\u001b[0;32m   4432\u001b[0m         \"\"\"\n\u001b[1;32m-> 4433\u001b[1;33m         \u001b[1;32mreturn\u001b[0m \u001b[0mSeriesApply\u001b[0m\u001b[1;33m(\u001b[0m\u001b[0mself\u001b[0m\u001b[1;33m,\u001b[0m \u001b[0mfunc\u001b[0m\u001b[1;33m,\u001b[0m \u001b[0mconvert_dtype\u001b[0m\u001b[1;33m,\u001b[0m \u001b[0margs\u001b[0m\u001b[1;33m,\u001b[0m \u001b[0mkwargs\u001b[0m\u001b[1;33m)\u001b[0m\u001b[1;33m.\u001b[0m\u001b[0mapply\u001b[0m\u001b[1;33m(\u001b[0m\u001b[1;33m)\u001b[0m\u001b[1;33m\u001b[0m\u001b[1;33m\u001b[0m\u001b[0m\n\u001b[0m\u001b[0;32m   4434\u001b[0m \u001b[1;33m\u001b[0m\u001b[0m\n\u001b[0;32m   4435\u001b[0m     def _reduce(\n",
      "\u001b[1;32m~\\anaconda3\\lib\\site-packages\\pandas\\core\\apply.py\u001b[0m in \u001b[0;36mapply\u001b[1;34m(self)\u001b[0m\n\u001b[0;32m   1086\u001b[0m             \u001b[1;32mreturn\u001b[0m \u001b[0mself\u001b[0m\u001b[1;33m.\u001b[0m\u001b[0mapply_str\u001b[0m\u001b[1;33m(\u001b[0m\u001b[1;33m)\u001b[0m\u001b[1;33m\u001b[0m\u001b[1;33m\u001b[0m\u001b[0m\n\u001b[0;32m   1087\u001b[0m \u001b[1;33m\u001b[0m\u001b[0m\n\u001b[1;32m-> 1088\u001b[1;33m         \u001b[1;32mreturn\u001b[0m \u001b[0mself\u001b[0m\u001b[1;33m.\u001b[0m\u001b[0mapply_standard\u001b[0m\u001b[1;33m(\u001b[0m\u001b[1;33m)\u001b[0m\u001b[1;33m\u001b[0m\u001b[1;33m\u001b[0m\u001b[0m\n\u001b[0m\u001b[0;32m   1089\u001b[0m \u001b[1;33m\u001b[0m\u001b[0m\n\u001b[0;32m   1090\u001b[0m     \u001b[1;32mdef\u001b[0m \u001b[0magg\u001b[0m\u001b[1;33m(\u001b[0m\u001b[0mself\u001b[0m\u001b[1;33m)\u001b[0m\u001b[1;33m:\u001b[0m\u001b[1;33m\u001b[0m\u001b[1;33m\u001b[0m\u001b[0m\n",
      "\u001b[1;32m~\\anaconda3\\lib\\site-packages\\pandas\\core\\apply.py\u001b[0m in \u001b[0;36mapply_standard\u001b[1;34m(self)\u001b[0m\n\u001b[0;32m   1141\u001b[0m                 \u001b[1;31m# List[Union[Callable[..., Any], str]]]]]\"; expected\u001b[0m\u001b[1;33m\u001b[0m\u001b[1;33m\u001b[0m\u001b[0m\n\u001b[0;32m   1142\u001b[0m                 \u001b[1;31m# \"Callable[[Any], Any]\"\u001b[0m\u001b[1;33m\u001b[0m\u001b[1;33m\u001b[0m\u001b[0m\n\u001b[1;32m-> 1143\u001b[1;33m                 mapped = lib.map_infer(\n\u001b[0m\u001b[0;32m   1144\u001b[0m                     \u001b[0mvalues\u001b[0m\u001b[1;33m,\u001b[0m\u001b[1;33m\u001b[0m\u001b[1;33m\u001b[0m\u001b[0m\n\u001b[0;32m   1145\u001b[0m                     \u001b[0mf\u001b[0m\u001b[1;33m,\u001b[0m  \u001b[1;31m# type: ignore[arg-type]\u001b[0m\u001b[1;33m\u001b[0m\u001b[1;33m\u001b[0m\u001b[0m\n",
      "\u001b[1;32m~\\anaconda3\\lib\\site-packages\\pandas\\_libs\\lib.pyx\u001b[0m in \u001b[0;36mpandas._libs.lib.map_infer\u001b[1;34m()\u001b[0m\n",
      "\u001b[1;32m~\\AppData\\Local\\Temp\\ipykernel_10780\\1295655512.py\u001b[0m in \u001b[0;36m<lambda>\u001b[1;34m(x)\u001b[0m\n\u001b[0;32m      1\u001b[0m \u001b[1;31m# How many different unique email domains names are there in the data set?\u001b[0m\u001b[1;33m\u001b[0m\u001b[1;33m\u001b[0m\u001b[0m\n\u001b[1;32m----> 2\u001b[1;33m \u001b[0mnum_email_domains\u001b[0m \u001b[1;33m=\u001b[0m \u001b[0mdf\u001b[0m\u001b[1;33m[\u001b[0m\u001b[1;34m\"company email\"\u001b[0m\u001b[1;33m]\u001b[0m\u001b[1;33m.\u001b[0m\u001b[0mapply\u001b[0m\u001b[1;33m(\u001b[0m\u001b[1;32mlambda\u001b[0m \u001b[0mx\u001b[0m\u001b[1;33m:\u001b[0m \u001b[0mx\u001b[0m\u001b[1;33m.\u001b[0m\u001b[0msplit\u001b[0m\u001b[1;33m(\u001b[0m\u001b[1;34m'@'\u001b[0m\u001b[1;33m)\u001b[0m\u001b[1;33m[\u001b[0m\u001b[1;36m1\u001b[0m\u001b[1;33m]\u001b[0m\u001b[1;33m)\u001b[0m\u001b[1;33m.\u001b[0m\u001b[0mnunique\u001b[0m\u001b[1;33m(\u001b[0m\u001b[1;33m)\u001b[0m\u001b[1;33m\u001b[0m\u001b[1;33m\u001b[0m\u001b[0m\n\u001b[0m\u001b[0;32m      3\u001b[0m \u001b[0mprint\u001b[0m\u001b[1;33m(\u001b[0m\u001b[0mnum_email_domains\u001b[0m\u001b[1;33m)\u001b[0m\u001b[1;33m\u001b[0m\u001b[1;33m\u001b[0m\u001b[0m\n",
      "\u001b[1;31mAttributeError\u001b[0m: 'float' object has no attribute 'split'"
     ]
    }
   ],
   "source": [
    "# How many different unique email domains names are there in the data set?\n",
    "num_email_domains = df[\"company email\"].apply(lambda x: x.split('@')[1]).nunique()\n",
    "print(num_email_domains)"
   ]
  },
  {
   "cell_type": "markdown",
   "id": "147b0d79-3f8b-414f-9662-eefccc4fd9bc",
   "metadata": {},
   "source": [
    "#Q3:How many different unique email domains names are there in the data set?"
   ]
  },
  {
   "cell_type": "code",
   "execution_count": 52,
   "id": "a5aa1626-bfbd-4925-9a83-852c6b1a5c17",
   "metadata": {
    "tags": []
   },
   "outputs": [
    {
     "name": "stdout",
     "output_type": "stream",
     "text": [
      "\\Extracting email from dataframe columns:\n",
      "                                 Company Name    company contact  \\\n",
      "0                              1 State Street      David Neiburg   \n",
      "1                              100 Church LLC  Edward A. Carroll   \n",
      "2                        100 Wall Investments       Jerry Branam   \n",
      "3                 1-10 Bush Terminal Owner LP     Andrew Kimball   \n",
      "4    120 Broadway Acquisitions JV, LLC (Ldmk)        Carl Letich   \n",
      "..                                        ...                ...   \n",
      "445                         WONTON FOOD, INC.         DONALD LAU   \n",
      "446                                Wood Works       Gordon Brawm   \n",
      "447           WorldWide Plumbing Supply, Inc.    Surie Lefkowitz   \n",
      "448                         WUD Furniture LLC     Keren Springer   \n",
      "449                       Wurtec Incorporated          Bill Popp   \n",
      "\n",
      "                 company email company phone                Address  \\\n",
      "0       eskoblo@energyspec.com    7186779077          1114 Avenue J   \n",
      "1                          NaN    2125663000      100 Church Street   \n",
      "2                          NaN    2122487160         96 Wall Street   \n",
      "3    akimball@industrycity.com    3474178429  220 36th St, Suite 2A   \n",
      "4        clettich@silvprop.com    2124064020           120 Broadway   \n",
      "..                         ...           ...                    ...   \n",
      "445   donaldlau@wontonfood.com    7186286868  220-222  MOORE STREET   \n",
      "446       brawnworks@gmail.com    9179404950        162 Cook Street   \n",
      "447           sheidya@wwps.com    7188533002        125 Lake Avenue   \n",
      "448     keren@wudfurniture.com    7184867952   1102 Atlantic Avenue   \n",
      "449       bill.popp@wurtec.com    4197261066      31-50 31st Street   \n",
      "\n",
      "                 City State  Postcode                          Industry  \\\n",
      "0            Brooklyn    NY     11230                        Commercial   \n",
      "1                  NY    NY     10007                        Commercial   \n",
      "2            New York    NY     10005                          Landlord   \n",
      "3            Brooklyn    NY     11232                          Landlord   \n",
      "4            New York    NY     10271                        Commercial   \n",
      "..                ...   ...       ...                               ...   \n",
      "445          Brooklyn    NY     11206                     Manufacturing   \n",
      "446          Brooklyn    NY     11206                     Manufacturing   \n",
      "447     Staten Island    NY     10303                     Manufacturing   \n",
      "448          Brooklyn    NY     11238                     Manufacturing   \n",
      "449  Lond Island City    NY     11106  Wholesale/Warehouse/Distribution   \n",
      "\n",
      "                                        Industry descr  ...        Borough  \\\n",
      "0                                    35 story building  ...       Brooklyn   \n",
      "1                                            21 Floors  ...       New York   \n",
      "2                                                  NaN  ...       New York   \n",
      "3    Special Eligible Premises for eligible businesses  ...       Brooklyn   \n",
      "4                                                  NaN  ...       New York   \n",
      "..                                                 ...  ...            ...   \n",
      "445                          MFG. PASTA, EGGROLL SKINS  ...       Brooklyn   \n",
      "446                        Installer of wood furniture  ...       Brooklyn   \n",
      "447      Plumbing Fixtures, Parts & Supplies, Plumbers  ...  Staten Island   \n",
      "448  We make handcrafted furniture, surfaces, lighting  ...       Brooklyn   \n",
      "449                         Elevator  tooling products  ...         Queens   \n",
      "\n",
      "      Latitude  Longitude  Community Board Council District  Census Tract  \\\n",
      "0    40.624784 -73.964920            314.0             44.0         534.0   \n",
      "1    40.712968 -74.009490            101.0              1.0          21.0   \n",
      "2    40.705052 -74.007199            101.0              1.0           7.0   \n",
      "3    40.656061 -74.007334            307.0             38.0           2.0   \n",
      "4    40.708546 -74.011041            101.0              1.0           7.0   \n",
      "..         ...        ...              ...              ...           ...   \n",
      "445  40.704425 -73.936010            301.0             34.0         485.0   \n",
      "446  40.702869 -73.936466            301.0             34.0         485.0   \n",
      "447  40.633518 -74.150942            501.0             49.0         239.0   \n",
      "448  40.679518 -73.956819            308.0             35.0         305.0   \n",
      "449  40.763148 -73.924442            401.0             22.0          61.0   \n",
      "\n",
      "           BIN           BBL  \\\n",
      "0    3179818.0  3.067130e+09   \n",
      "1    1001409.0  1.001250e+09   \n",
      "2    1000875.0  1.000380e+09   \n",
      "3    3398687.0  3.006950e+09   \n",
      "4    1001026.0  1.000478e+09   \n",
      "..         ...           ...   \n",
      "445  3071539.0  3.031090e+09   \n",
      "446  3071625.0  3.031230e+09   \n",
      "447  5107122.0  5.011610e+09   \n",
      "448  3027572.0  3.011260e+09   \n",
      "449  4007562.0  4.005890e+09   \n",
      "\n",
      "                                                   NTA  \\\n",
      "0                                              Midwood   \n",
      "1               SoHo-TriBeCa-Civic Center-Little Italy   \n",
      "2                    Battery Park City-Lower Manhattan   \n",
      "3                                     Sunset Park West   \n",
      "4                    Battery Park City-Lower Manhattan   \n",
      "..                                                 ...   \n",
      "445                                     Bushwick South   \n",
      "446                                     Bushwick South   \n",
      "447  Mariner's Harbor-Arlington-Port Ivory-Granitev...   \n",
      "448                                Crown Heights North   \n",
      "449                                            Astoria   \n",
      "\n",
      "                         email  \n",
      "0       eskoblo@energyspec.com  \n",
      "1                               \n",
      "2                               \n",
      "3    akimball@industrycity.com  \n",
      "4        clettich@silvprop.com  \n",
      "..                         ...  \n",
      "445   donaldlau@wontonfood.com  \n",
      "446       brawnworks@gmail.com  \n",
      "447           sheidya@wwps.com  \n",
      "448     keren@wudfurniture.com  \n",
      "449       bill.popp@wurtec.com  \n",
      "\n",
      "[450 rows x 27 columns]\n"
     ]
    }
   ],
   "source": [
    "import pandas as pd\n",
    "import re as re\n",
    "def find_email(text):\n",
    "    email=re.findall(r'[\\w\\.-]+@[\\w\\.-]+',str(text))\n",
    "    return \",\".join(email)\n",
    "find_email(Value_ECSP[\"company email\"])\n",
    "Value_ECSP[\"email\"]=Value_ECSP[\"company email\"].apply(lambda x: find_email(x))\n",
    "print(\"\\Extracting email from dataframe columns:\")\n",
    "print(Value_ECSP)"
   ]
  },
  {
   "cell_type": "markdown",
   "id": "54eda196-5b8e-4a30-8641-50c907434fda",
   "metadata": {},
   "source": [
    "#Answer,Q4:Considering only NTAs with at least 5 listed businesses, what is the average total savings and the total jobs created for each NTA?"
   ]
  },
  {
   "cell_type": "code",
   "execution_count": 54,
   "id": "e617d897-a9a2-4588-aae9-f141c3a2bcc1",
   "metadata": {},
   "outputs": [
    {
     "name": "stdout",
     "output_type": "stream",
     "text": [
      "                                                  Total Savings  Job created\n",
      "NTA                                                                         \n",
      "Battery Park City-Lower Manhattan                 469890.796667          0.0\n",
      "Bushwick South                                     26140.455000         10.0\n",
      "Carroll Gardens-Columbia Street-Red Hook           24337.390000          0.0\n",
      "College Point                                      17159.372857          2.0\n",
      "Crown Heights North                                 4036.298889          0.0\n",
      "DUMBO-Vinegar Hill-Downtown Brooklyn-Boerum Hill   59950.340000          0.0\n",
      "East New York                                      48433.093333         15.0\n",
      "East Williamsburg                                  13990.626364          0.0\n",
      "Greenpoint                                          9753.649286          0.0\n",
      "Hunters Point-Sunnyside-West Maspeth               23931.398933          0.0\n",
      "Hunts Point                                        39246.016154         12.0\n",
      "Manhattanville                                      2760.888889          0.0\n",
      "Maspeth                                             6658.283333         10.0\n",
      "Mott Haven-Port Morris                             17843.937857         10.0\n",
      "Queensbridge-Ravenswood-Long Island City           61830.770625          0.0\n",
      "SoHo-TriBeCa-Civic Center-Little Italy             37214.024000          0.0\n",
      "Springfield Gardens South-Brookville               17757.662000          0.0\n",
      "Steinway                                           11227.155714         20.0\n",
      "Sunset Park West                                   14316.976875          0.0\n",
      "park-cemetery-etc-Brooklyn                         14327.419333          0.0\n"
     ]
    }
   ],
   "source": [
    "import pandas as pd\n",
    "#Read in the data from the csv file\n",
    "ECSP_CSV=pd.read_csv(\"Value_of_Energy_Cost_Savings_Program_Savings_for_Businesses_-_FY2020.csv\")\n",
    "df=pd.DataFrame(ECSP_CSV)\n",
    "#Filter the data to only include NTAs with at least 5 businessess\n",
    "df=df[ECSP_CSV.groupby('NTA').NTA.transform('size')>=5]\n",
    "results = df.groupby('NTA').agg({'Total Savings': 'mean', 'Job created': 'sum'})\n",
    "#print the results\n",
    "print(results)"
   ]
  },
  {
   "cell_type": "markdown",
   "id": "9fd3fbf6-d299-49bd-8a04-73d5d97c439b",
   "metadata": {},
   "source": [
    "#Q5: save result as CSV file"
   ]
  },
  {
   "cell_type": "code",
   "execution_count": 46,
   "id": "4e913ab7-b08e-4dae-a06e-a6756a83bff2",
   "metadata": {},
   "outputs": [],
   "source": [
    "results.to_excel(\"results.xlsx\", sheet_name=\"values of ECSP\", index=True)\n",
    "results.to_csv(\"results.csv\", index=True)"
   ]
  },
  {
   "cell_type": "code",
   "execution_count": null,
   "id": "032d45e5-2e1a-4386-87d6-d2b88c3f0e47",
   "metadata": {},
   "outputs": [],
   "source": []
  }
 ],
 "metadata": {
  "kernelspec": {
   "display_name": "Python 3 (ipykernel)",
   "language": "python",
   "name": "python3"
  },
  "language_info": {
   "codemirror_mode": {
    "name": "ipython",
    "version": 3
   },
   "file_extension": ".py",
   "mimetype": "text/x-python",
   "name": "python",
   "nbconvert_exporter": "python",
   "pygments_lexer": "ipython3",
   "version": "3.9.13"
  },
  "toc-showmarkdowntxt": true
 },
 "nbformat": 4,
 "nbformat_minor": 5
}
